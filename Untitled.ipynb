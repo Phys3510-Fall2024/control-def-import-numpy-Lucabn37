{
 "cells": [
  {
   "cell_type": "markdown",
   "id": "c9f4982b-9934-49c1-bd4c-5a3575b046c4",
   "metadata": {},
   "source": [
    "## Simple harmonic motion\n",
    "\n",
    "This function will output the position and velocity of a spring-mass system.\n",
    "The important equations are:\n",
    "\n",
    "The force: $F = - k x = m a$\n",
    "\n",
    "Potential Energy: $U = \\frac{1}{2}kx^2$"
   ]
  },
  {
   "cell_type": "code",
   "execution_count": 9,
   "id": "97a65071-838d-44d5-a735-bdd80dfcad3c",
   "metadata": {},
   "outputs": [],
   "source": [
    "#import math library\n",
    "import math\n",
    "#print(dir(math))\n",
    "\n",
    "#defining harmonic motion\n",
    "def harmonic_motion(t, omega, x0, v0):\n",
    "    \"\"\"\n",
    "    This function outputs the position and velocity of a harmonic ocillator (simple spring-mass system) at a designated time\n",
    "    \n",
    "    Input:\n",
    "    t     : time in sec\n",
    "    omega : resonant frequency (omega = math.sqrt(k/m))\n",
    "    x0    : initial pos\n",
    "    v0    : initial vel\n",
    "\n",
    "    Output/Return:\n",
    "    x    : position at time t\n",
    "    v    : velovity at time t\n",
    "    \"\"\"\n",
    "    # x(t)\n",
    "    x = x0 * math.cos(omega*t) + (v0/omega) * math.sin(omega * t)\n",
    "\n",
    "    # v(t)\n",
    "    v = - omega * x0 * math.sin(omega * t) + v0 * math.cos(omega * t)\n",
    "    \n",
    "    return x, v"
   ]
  },
  {
   "cell_type": "code",
   "execution_count": 17,
   "id": "640403ac-1955-462b-8b85-9e3a43c971fa",
   "metadata": {},
   "outputs": [
    {
     "data": {
      "text/plain": [
       "[-3.0999999999999996, -2.0000000000000004]"
      ]
     },
     "execution_count": 17,
     "metadata": {},
     "output_type": "execute_result"
    }
   ],
   "source": [
    "# Testing Function\n",
    "\n",
    "omega = 1 #unknown unit\n",
    "time = 1*math.pi/omega #time unknown unit\n",
    "initial_pos = 3.1 #unknown unit\n",
    "initial_vel = 2 # unknown unit\n",
    "position, velocity = harmonic_motion(time, omega, initial_pos, initial_vel)\n",
    "[position, velocity]"
   ]
  },
  {
   "cell_type": "markdown",
   "id": "049b6dbf-92f7-4a77-8bd6-cd49b9808f6f",
   "metadata": {},
   "source": [
    "## linear algebra with `numpy`\n",
    "\n",
    "we can access `numpy` by one of the following\n",
    "```python\n",
    "import numpy as np #Recommended\n",
    "from numpy import array,  dot #useful once we understand and are familiar with numpy\n",
    "from numpy import * #avoid!\n",
    "\n"
   ]
  },
  {
   "cell_type": "code",
   "execution_count": 1,
   "id": "590ec3ab-7904-40c0-bb16-9a4a03aa360f",
   "metadata": {},
   "outputs": [],
   "source": [
    "import numpy as np"
   ]
  },
  {
   "cell_type": "code",
   "execution_count": 2,
   "id": "cf7011b9-0910-4be3-9d57-81bd5f3ed76d",
   "metadata": {},
   "outputs": [
    {
     "data": {
      "text/plain": [
       "array([5, 7, 9])"
      ]
     },
     "execution_count": 2,
     "metadata": {},
     "output_type": "execute_result"
    }
   ],
   "source": [
    "a = np.array([1,2,3])\n",
    "b = np.array([4,5,6])\n",
    "\n",
    "a + b"
   ]
  },
  {
   "cell_type": "code",
   "execution_count": 6,
   "id": "87aeb3af-e176-4b3b-9b05-5dc5f4b2f5b8",
   "metadata": {},
   "outputs": [
    {
     "name": "stdout",
     "output_type": "stream",
     "text": [
      "32\n",
      "32\n"
     ]
    }
   ],
   "source": [
    "print(np.dot(a,b))\n",
    "print(a@b)"
   ]
  },
  {
   "cell_type": "markdown",
   "id": "b556334f-6a9c-47f5-bc84-2eba141de10e",
   "metadata": {},
   "source": [
    "\"vector-like\" objects\n",
    "scalar : constant\n",
    "polar vector : z^\n",
    "axial (pseudo) vector : x^ X y^ = z^\n",
    "pseudo scalar : z^*(x^ x y^)\n",
    "\n",
    "Symmetry operations\n",
    "E    : identity operation    : (xyz)->(xyz)\n",
    "I    : spatial inversion     : (xyz)->(-x,-y,-z)\n",
    "Mx   : mirror in the yz-plane: (xyz)->(-x,y,z)\n",
    "C2,x : 180 rotation about x  : (xyz)->(x,-y,-z)"
   ]
  },
  {
   "cell_type": "code",
   "execution_count": null,
   "id": "49bcdf5a-9ed0-496a-b5d9-e606a0d31580",
   "metadata": {},
   "outputs": [],
   "source": []
  }
 ],
 "metadata": {
  "kernelspec": {
   "display_name": "Python 3 (ipykernel)",
   "language": "python",
   "name": "python3"
  },
  "language_info": {
   "codemirror_mode": {
    "name": "ipython",
    "version": 3
   },
   "file_extension": ".py",
   "mimetype": "text/x-python",
   "name": "python",
   "nbconvert_exporter": "python",
   "pygments_lexer": "ipython3",
   "version": "3.9.20"
  }
 },
 "nbformat": 4,
 "nbformat_minor": 5
}
