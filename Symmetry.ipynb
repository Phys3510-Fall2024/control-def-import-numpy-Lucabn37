{
 "cells": [
  {
   "cell_type": "code",
   "execution_count": 9,
   "id": "cc3c6825-bc94-4e7b-83fa-9cc9ccf21bf4",
   "metadata": {},
   "outputs": [],
   "source": [
    "import numpy as np"
   ]
  },
  {
   "cell_type": "code",
   "execution_count": 10,
   "id": "e61bda9c-12fd-475c-b166-fd6abf1383b9",
   "metadata": {},
   "outputs": [
    {
     "name": "stdout",
     "output_type": "stream",
     "text": [
      "identity =  [[1 0 0]\n",
      " [0 1 0]\n",
      " [0 0 1]]\n",
      "inversion =  [[-1  0  0]\n",
      " [ 0 -1  0]\n",
      " [ 0  0 -1]]\n",
      "mirror_z =  [[-1  0  0]\n",
      " [ 0 -1  0]\n",
      " [ 0  0  1]]\n",
      "mirror_y =  [[-1  0  0]\n",
      " [ 0  1  0]\n",
      " [ 0  0 -1]]\n",
      "rotation_x_180 =  [[ 1  0  0]\n",
      " [ 0 -1  0]\n",
      " [ 0  0 -1]]\n"
     ]
    }
   ],
   "source": [
    "# defining vectors\n",
    "a = np.array([1, 0, 0])\n",
    "b = np.array([0, 1, 0])\n",
    "c = np.array([0, 0, 1])\n",
    "\n",
    "# Defining four objects\n",
    "scalar = np.dot(a, b) #dot product\n",
    "pseudoscalar = np.dot(c, np.cross(a, b))\n",
    "polar_vector = c\n",
    "axial_vector = np.cross(a, b)\n",
    "\n",
    "#Symmetry operations\n",
    "identity = np.array(\n",
    "    [[1, 0, 0]\n",
    "    ,[0, 1, 0]\n",
    "    ,[0, 0, 1]])\n",
    "inversion = np.array(\n",
    "    [[-1, 0, 0]\n",
    "    ,[0, -1, 0]\n",
    "    ,[0, 0, -1]])\n",
    "mirror_z = np.array(\n",
    "    [[-1, 0, 0]\n",
    "    ,[0, -1, 0]\n",
    "    ,[0, 0, 1]])\n",
    "mirror_y = np.array(\n",
    "    [[-1, 0, 0]\n",
    "    ,[0, 1, 0]\n",
    "    ,[0, 0, -1]])\n",
    "rotation_x_180 = np.array(\n",
    "    [[1, 0, 0]\n",
    "    ,[0, -1, 0]\n",
    "    ,[0, 0, -1]])\n",
    "\n",
    "print(\"identity = \", identity)\n",
    "print(\"inversion = \", inversion)\n",
    "print(\"mirror_z = \", mirror_z)\n",
    "print(\"mirror_y = \", mirror_y)\n",
    "print(\"rotation_x_180 = \", rotation_x_180)\n"
   ]
  },
  {
   "cell_type": "markdown",
   "id": "8880c03e-304f-4599-8c45-9be1d18661b8",
   "metadata": {},
   "source": [
    "## Table of Symmetry\n",
    "\n",
    "\n",
    "| 1D object    | identity | inversion | mirror_y | rotation_x_180 |\n",
    "|--------------|----------|-----------|----------|----------------|\n",
    "| scalar       | 1        | 1         | 1        | 1              |\n",
    "| pseudoscalar | 1        |-1         | 1        |-1              |\n",
    "| polar vector | 1        | 1         |-1        |-1              |\n",
    "| axial vector | 1        |-1         |-1        | 1              |\n"
   ]
  },
  {
   "cell_type": "markdown",
   "id": "1af4f95d-ca49-4df4-8f65-a18d62d0b820",
   "metadata": {},
   "source": [
    "Notice that the square of any of these terms, i.e. $Q_i^2$, is even under all of the symmetry operations. This is a generalization of the multiplication rules \"even times even is even\" and \"odd times odd is even\" for each symmetry. You can think about this as a spring-mass system where the energy stored in the spring is $1/2 k x^2$. Each $Q_i$ is the coordinate of a mass, and $1/2 k$ is whatever the coefficient of that is that gives us units of energy. Are any terms $Q_i * Q_j$ possible? Why or why not? What about $Q_i * Q_j * Q_k$? These terms, if they exists, tell us how these \"springs\" can be coupled to each other.\n",
    "#\n",
    "\n",
    "\n",
    "##### Response\n",
    "The terms $Q_i * Q_j$ are possible. If $Q_i$ describes the coordinate of a mass in a system, then $Q_i * Q_j$ would describe a system where two coordinate masses are coupled. This would require another kinetic energy term in order to describe the energy stored in the spring. It's important to note that these two Q terms, in a symmetry operation, would produce the same generalized multiplication rules as long as they are either both even or both odd. If one is even and one is odd then the symmetry table would be changed. It should then be possible to have three Q terms, with three descriptions of kinetic energy. In this configuration however the value of each Q, even or odd, matters less. If any Q value is odd, then the whole collective term is odd, and the only configuration where the term is even is if all values are even.\n"
   ]
  },
  {
   "cell_type": "code",
   "execution_count": null,
   "id": "7003274a-377f-4f74-9eb7-766a623f4fd3",
   "metadata": {},
   "outputs": [],
   "source": []
  }
 ],
 "metadata": {
  "kernelspec": {
   "display_name": "Python 3 (ipykernel)",
   "language": "python",
   "name": "python3"
  },
  "language_info": {
   "codemirror_mode": {
    "name": "ipython",
    "version": 3
   },
   "file_extension": ".py",
   "mimetype": "text/x-python",
   "name": "python",
   "nbconvert_exporter": "python",
   "pygments_lexer": "ipython3",
   "version": "3.9.20"
  }
 },
 "nbformat": 4,
 "nbformat_minor": 5
}
