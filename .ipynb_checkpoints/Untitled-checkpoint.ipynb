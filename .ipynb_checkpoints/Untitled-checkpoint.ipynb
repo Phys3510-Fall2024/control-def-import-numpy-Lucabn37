{
 "cells": [
  {
   "cell_type": "markdown",
   "id": "c9f4982b-9934-49c1-bd4c-5a3575b046c4",
   "metadata": {},
   "source": [
    "## Simple harmonic motion\n",
    "\n",
    "This function will output the position and velocity of a spring-mass system.\n",
    "The important equations are:\n",
    "\n",
    "The force: $F = - k x = m a = m \\dot$\n",
    "Potential Energy: $U = \\frac{1}{2}kx^2$"
   ]
  },
  {
   "cell_type": "code",
   "execution_count": 9,
   "id": "97a65071-838d-44d5-a735-bdd80dfcad3c",
   "metadata": {},
   "outputs": [],
   "source": [
    "#import math library\n",
    "import math\n",
    "#print(dir(math))\n",
    "\n",
    "#defining harmonic motion\n",
    "def harmonic_motion(t, omega, x0, v0):\n",
    "    \"\"\"\n",
    "    This function outputs the position and velocity of a harmonic ocillator (simple spring-mass system) at a designated time\n",
    "    \n",
    "    Input:\n",
    "    t     : time in sec\n",
    "    omega : resonant frequency (omega = math.sqrt(k/m))\n",
    "    x0    : initial pos\n",
    "    v0    : initial vel\n",
    "\n",
    "    Output/Return:\n",
    "    x    : position at time t\n",
    "    v    : velovity at time t\n",
    "    \"\"\"\n",
    "    # x(t)\n",
    "    x = x0 * math.cos(omega*t) + (v0/omega) * math.sin(omega * t)\n",
    "\n",
    "    # v(t)\n",
    "    v = - omega * x0 * math.sin(omega * t) + v0 * math.cos(omega * t)\n",
    "    \n",
    "    return x, v"
   ]
  },
  {
   "cell_type": "code",
   "execution_count": 17,
   "id": "640403ac-1955-462b-8b85-9e3a43c971fa",
   "metadata": {},
   "outputs": [
    {
     "data": {
      "text/plain": [
       "[-3.0999999999999996, -2.0000000000000004]"
      ]
     },
     "execution_count": 17,
     "metadata": {},
     "output_type": "execute_result"
    }
   ],
   "source": [
    "# Testing Function\n",
    "\n",
    "omega = 1 #unknown unit\n",
    "time = 1*math.pi/omega #time unknown unit\n",
    "initial_pos = 3.1 #unknown unit\n",
    "initial_vel = 2 # unknown unit\n",
    "position, velocity = harmonic_motion(time, omega, initial_pos, initial_vel)\n",
    "[position, velocity]"
   ]
  },
  {
   "cell_type": "code",
   "execution_count": null,
   "id": "31a67a15-18eb-4097-aaef-28fd47f762dc",
   "metadata": {},
   "outputs": [],
   "source": []
  }
 ],
 "metadata": {
  "kernelspec": {
   "display_name": "Python 3 (ipykernel)",
   "language": "python",
   "name": "python3"
  },
  "language_info": {
   "codemirror_mode": {
    "name": "ipython",
    "version": 3
   },
   "file_extension": ".py",
   "mimetype": "text/x-python",
   "name": "python",
   "nbconvert_exporter": "python",
   "pygments_lexer": "ipython3",
   "version": "3.9.19"
  }
 },
 "nbformat": 4,
 "nbformat_minor": 5
}
